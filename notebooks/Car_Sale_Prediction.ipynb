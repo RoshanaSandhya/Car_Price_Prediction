{
 "cells": [
  {
   "cell_type": "markdown",
   "id": "07775fa6-6729-49ed-a72b-d7b03c802411",
   "metadata": {},
   "source": [
    "# Car Price Prediction Project\n",
    "\n",
    "**Objective:**  \n",
    "Build an end-to-end machine learning pipeline to predict used car prices using the CarDekho dataset. This notebook will guide you through data ingestion, exploratory analysis, preprocessing, model training and evaluation, h"
   ]
  },
  {
   "cell_type": "markdown",
   "id": "58ba5f44-643b-4e88-b865-4395b2026ad5",
   "metadata": {},
   "source": [
    "# 1 Data Ingestion & Inspection"
   ]
  },
  {
   "cell_type": "code",
   "execution_count": 4,
   "id": "b054507e-cb96-4402-a737-88125a979faf",
   "metadata": {},
   "outputs": [
    {
     "name": "stdout",
     "output_type": "stream",
     "text": [
      "(8128, 13)\n",
      "<class 'pandas.core.frame.DataFrame'>\n",
      "RangeIndex: 8128 entries, 0 to 8127\n",
      "Data columns (total 13 columns):\n",
      " #   Column         Non-Null Count  Dtype  \n",
      "---  ------         --------------  -----  \n",
      " 0   name           8128 non-null   object \n",
      " 1   year           8128 non-null   int64  \n",
      " 2   selling_price  8128 non-null   int64  \n",
      " 3   km_driven      8128 non-null   int64  \n",
      " 4   fuel           8128 non-null   object \n",
      " 5   seller_type    8128 non-null   object \n",
      " 6   transmission   8128 non-null   object \n",
      " 7   owner          8128 non-null   object \n",
      " 8   mileage        7907 non-null   object \n",
      " 9   engine         7907 non-null   object \n",
      " 10  max_power      7913 non-null   object \n",
      " 11  torque         7906 non-null   object \n",
      " 12  seats          7907 non-null   float64\n",
      "dtypes: float64(1), int64(3), object(9)\n",
      "memory usage: 825.6+ KB\n"
     ]
    }
   ],
   "source": [
    "import pandas as pd\n",
    "\n",
    "# Load CSV\n",
    "df = pd.read_csv(\"../archive/Car details v3.csv\")\n",
    "\n",
    "# Inspect\n",
    "print(df.shape)\n",
    "df.head()\n",
    "\n",
    "# Info & null counts\n",
    "df.info()"
   ]
  },
  {
   "cell_type": "markdown",
   "id": "5be8a0da-5933-45e1-9412-a8b5e8b0b3ee",
   "metadata": {},
   "source": [
    "# 2 Exploratory Data Analysis (EDA)"
   ]
  },
  {
   "cell_type": "code",
   "execution_count": 5,
   "id": "1bd00455-656e-4998-94bb-dafa5c2e0e2c",
   "metadata": {},
   "outputs": [
    {
     "name": "stderr",
     "output_type": "stream",
     "text": [
      "Matplotlib is building the font cache; this may take a moment.\n"
     ]
    },
    {
     "name": "stdout",
     "output_type": "stream",
     "text": [
      "                          name         year  selling_price     km_driven  \\\n",
      "count                     8128  8128.000000   8.128000e+03  8.128000e+03   \n",
      "unique                    2058          NaN            NaN           NaN   \n",
      "top     Maruti Swift Dzire VDI          NaN            NaN           NaN   \n",
      "freq                       129          NaN            NaN           NaN   \n",
      "mean                       NaN  2013.804011   6.382718e+05  6.981951e+04   \n",
      "std                        NaN     4.044249   8.062534e+05  5.655055e+04   \n",
      "min                        NaN  1983.000000   2.999900e+04  1.000000e+00   \n",
      "25%                        NaN  2011.000000   2.549990e+05  3.500000e+04   \n",
      "50%                        NaN  2015.000000   4.500000e+05  6.000000e+04   \n",
      "75%                        NaN  2017.000000   6.750000e+05  9.800000e+04   \n",
      "max                        NaN  2020.000000   1.000000e+07  2.360457e+06   \n",
      "\n",
      "          fuel seller_type transmission        owner    mileage   engine  \\\n",
      "count     8128        8128         8128         8128       7907     7907   \n",
      "unique       4           3            2            5        393      121   \n",
      "top     Diesel  Individual       Manual  First Owner  18.9 kmpl  1248 CC   \n",
      "freq      4402        6766         7078         5289        225     1017   \n",
      "mean       NaN         NaN          NaN          NaN        NaN      NaN   \n",
      "std        NaN         NaN          NaN          NaN        NaN      NaN   \n",
      "min        NaN         NaN          NaN          NaN        NaN      NaN   \n",
      "25%        NaN         NaN          NaN          NaN        NaN      NaN   \n",
      "50%        NaN         NaN          NaN          NaN        NaN      NaN   \n",
      "75%        NaN         NaN          NaN          NaN        NaN      NaN   \n",
      "max        NaN         NaN          NaN          NaN        NaN      NaN   \n",
      "\n",
      "       max_power          torque        seats  \n",
      "count       7913            7906  7907.000000  \n",
      "unique       322             441          NaN  \n",
      "top       74 bhp  190Nm@ 2000rpm          NaN  \n",
      "freq         377             530          NaN  \n",
      "mean         NaN             NaN     5.416719  \n",
      "std          NaN             NaN     0.959588  \n",
      "min          NaN             NaN     2.000000  \n",
      "25%          NaN             NaN     5.000000  \n",
      "50%          NaN             NaN     5.000000  \n",
      "75%          NaN             NaN     5.000000  \n",
      "max          NaN             NaN    14.000000  \n",
      "name               0\n",
      "year               0\n",
      "selling_price      0\n",
      "km_driven          0\n",
      "fuel               0\n",
      "seller_type        0\n",
      "transmission       0\n",
      "owner              0\n",
      "mileage          221\n",
      "engine           221\n",
      "max_power        215\n",
      "torque           222\n",
      "seats            221\n",
      "dtype: int64\n"
     ]
    },
    {
     "data": {
      "image/png": "[encoded data removed]",
      "text/plain": [
       "<Figure size 600x400 with 1 Axes>"
      ]
     },
     "metadata": {},
     "output_type": "display_data"
    },
    {
     "data": {
      "image/png": "[encoded data removed]",
      "text/plain": [
       "<Figure size 600x400 with 1 Axes>"
      ]
     },
     "metadata": {},
     "output_type": "display_data"
    },
    {
     "data": {
      "image/png": "[encoded data removed]",
      "text/plain": [
       "<Figure size 600x400 with 1 Axes>"
      ]
     },
     "metadata": {},
     "output_type": "display_data"
    }
   ],
   "source": [
    "import matplotlib.pyplot as plt\n",
    "import seaborn as sns\n",
    "\n",
    "# Summary stats\n",
    "print(df.describe(include='all'))\n",
    "# Missing values\n",
    "print(df.isnull().sum())\n",
    "\n",
    "# Selling price distribution\n",
    "plt.figure(figsize=(6,4))\n",
    "sns.histplot(df['selling_price'], kde=True)\n",
    "plt.title('Selling Price Distribution')\n",
    "plt.xlabel('Selling Price (₹)')\n",
    "plt.show()\n",
    "\n",
    "# Year vs Price scatter\n",
    "plt.figure(figsize=(6,4))\n",
    "sns.scatterplot(x=df['year'], y=df['selling_price'])\n",
    "plt.title('Year vs Selling Price')\n",
    "plt.xlabel('Year')\n",
    "plt.ylabel('Selling Price (₹)')\n",
    "plt.show()\n",
    "\n",
    "# Fuel type counts\n",
    "plt.figure(figsize=(6,4))\n",
    "sns.countplot(x=df['fuel'])\n",
    "plt.title('Fuel Type Distribution')\n",
    "plt.xlabel('Fuel')\n",
    "plt.show()"
   ]
  },
  {
   "cell_type": "markdown",
   "id": "4780fb9d-f884-4ef8-ba42-d185203ad16b",
   "metadata": {},
   "source": [
    "# 3 Data Preprocessing & Feature Engineering"
   ]
  },
  {
   "cell_type": "code",
   "execution_count": 6,
   "id": "49ddd16a-8527-4f44-9122-bef7e2c8ac2a",
   "metadata": {},
   "outputs": [],
   "source": [
    "import numpy as np\n",
    "import re\n",
    "from sklearn.model_selection import train_test_split\n",
    "\n",
    "# 1. Normalize column names\n",
    "df.columns = df.columns.str.strip().str.lower()\n",
    "\n",
    "# 2. Drop unused\n",
    "df = df.drop(['name','torque'], axis=1, errors='ignore')\n",
    "\n",
    "# 3. Parse numeric fields\n",
    "df['mileage']   = df['mileage'].astype(str).str.split().str[0].astype(float)\n",
    "df['engine']    = df['engine'].astype(str).str.split().str[0].astype(float)\n",
    "def parse_power(x):\n",
    "    m = re.match(r\"([0-9]+\\.?[0-9]*)\", str(x))\n",
    "    return float(m.group(1)) if m else np.nan\n",
    "\n",
    "df['max_power'] = df['max_power'].apply(parse_power)\n",
    "\n",
    "# 4. Fill missing\n",
    "for col in ['mileage','engine','max_power','seats']:\n",
    "    df[col] = df[col].fillna(df[col].median())\n",
    "\n",
    "# 5. Feature: car age\n",
    "CURRENT_YEAR = 2025\n",
    "if 'year' in df.columns:\n",
    "    df['car_age'] = CURRENT_YEAR - df['year']\n",
    "    df = df.drop('year', axis=1)\n",
    "\n",
    "# 6. One-hot encode categoricals\n",
    "cats = ['fuel','seller_type','transmission','owner']\n",
    "to_enc = [c for c in cats if c in df.columns]\n",
    "if to_enc:\n",
    "    df = pd.get_dummies(df, columns=to_enc, drop_first=True)\n",
    "\n",
    "# 7. Split features/target\n",
    "y = df['selling_price']\n",
    "X = df.drop('selling_price', axis=1)\n",
    "\n",
    "# 8. Train/test split\n",
    "X_train, X_test, y_train, y_test = train_test_split(\n",
    "    X, y, test_size=0.2, random_state=42\n",
    ")"
   ]
  },
  {
   "cell_type": "markdown",
   "id": "68e6a616-2925-4e12-a65e-c85aaf38f931",
   "metadata": {},
   "source": [
    "# 4 Scale Numeric Features"
   ]
  },
  {
   "cell_type": "code",
   "execution_count": 7,
   "id": "d888521b-8d38-4b15-94d2-4120ed613811",
   "metadata": {},
   "outputs": [],
   "source": [
    "from sklearn.preprocessing import StandardScaler\n",
    "import pandas as pd\n",
    "\n",
    "numeric_cols = ['km_driven','mileage','engine','max_power','seats','car_age']\n",
    "scaler = StandardScaler()\n",
    "\n",
    "# Scale train\n",
    "scaled_train = pd.DataFrame(\n",
    "    scaler.fit_transform(X_train[numeric_cols]),\n",
    "    columns=numeric_cols,\n",
    "    index=X_train.index\n",
    ")\n",
    "X_train_scaled = X_train.copy()\n",
    "for col in numeric_cols:\n",
    "    X_train_scaled[col] = scaled_train[col]\n",
    "\n",
    "# Scale test\n",
    "scaled_test = pd.DataFrame(\n",
    "    scaler.transform(X_test[numeric_cols]),\n",
    "    columns=numeric_cols,\n",
    "    index=X_test.index\n",
    ")\n",
    "X_test_scaled = X_test.copy()\n",
    "for col in numeric_cols:\n",
    "    X_test_scaled[col] = scaled_test[col]"
   ]
  },
  {
   "cell_type": "markdown",
   "id": "1bae89df-d039-4377-bccf-11342f7110d1",
   "metadata": {},
   "source": [
    "# 5 Train & Compare Models"
   ]
  },
  {
   "cell_type": "code",
   "execution_count": 8,
   "id": "64c70cc1-a712-4d02-9aa3-371fdc4b6c2b",
   "metadata": {},
   "outputs": [
    {
     "name": "stdout",
     "output_type": "stream",
     "text": [
      "               Model        R2            MAE           RMSE\n",
      "2      Random Forest  0.967868   70338.138105  145126.784176\n",
      "3  Gradient Boosting  0.961366   92388.286484  159135.834305\n",
      "4            XGBoost  0.960502   71587.726562  160904.368915\n",
      "1      Decision Tree  0.944342   82327.057901  191004.800279\n",
      "0  Linear Regression  0.697874  268886.595212  445015.467034\n"
     ]
    }
   ],
   "source": [
    "from sklearn.linear_model import LinearRegression\n",
    "from sklearn.tree import DecisionTreeRegressor\n",
    "from sklearn.ensemble import RandomForestRegressor, GradientBoostingRegressor\n",
    "from xgboost import XGBRegressor\n",
    "from sklearn.metrics import r2_score, mean_absolute_error, mean_squared_error\n",
    "import pandas as pd\n",
    "\n",
    "models = {\n",
    "    'Linear Regression': LinearRegression(),\n",
    "    'Decision Tree'    : DecisionTreeRegressor(random_state=42),\n",
    "    'Random Forest'    : RandomForestRegressor(n_estimators=100, random_state=42),\n",
    "    'Gradient Boosting': GradientBoostingRegressor(n_estimators=100, random_state=42),\n",
    "    'XGBoost'          : XGBRegressor(n_estimators=100, random_state=42, verbosity=0)\n",
    "}\n",
    "\n",
    "results = []\n",
    "for name, m in models.items():\n",
    "    m.fit(X_train_scaled, y_train)\n",
    "    preds = m.predict(X_test_scaled)\n",
    "    mse   = mean_squared_error(y_test, preds)\n",
    "    results.append({\n",
    "        'Model': name,\n",
    "        'R2'   : r2_score(y_test, preds),\n",
    "        'MAE'  : mean_absolute_error(y_test, preds),\n",
    "        'RMSE' : mse**0.5\n",
    "    })\n",
    "\n",
    "results_df = pd.DataFrame(results).sort_values('R2', ascending=False)\n",
    "print(results_df)"
   ]
  },
  {
   "cell_type": "markdown",
   "id": "a9fe98bc-3c60-4715-90bc-d75ccb782abc",
   "metadata": {},
   "source": [
    "# 6 Hyperparameter Tuning"
   ]
  },
  {
   "cell_type": "code",
   "execution_count": 9,
   "id": "4e80ec75-71b9-4ec1-8505-fb563aa4ea56",
   "metadata": {},
   "outputs": [
    {
     "name": "stdout",
     "output_type": "stream",
     "text": [
      "Best params: {'max_depth': None, 'n_estimators': 200}\n",
      "Best CV R2: 0.9571906398515312\n",
      "Test R2 : 0.9686443367477652\n",
      "Test MAE: 69740.00614128115\n",
      "Test RMSE: 143363.6961730842\n"
     ]
    }
   ],
   "source": [
    "from sklearn.model_selection import GridSearchCV\n",
    "from sklearn.ensemble import RandomForestRegressor\n",
    "from sklearn.metrics import mean_squared_error, r2_score, mean_absolute_error\n",
    "\n",
    "param_grid = {'n_estimators':[50,100,200], 'max_depth':[None,5,10]}\n",
    "grid = GridSearchCV(RandomForestRegressor(random_state=42), param_grid,\n",
    "                    cv=3, scoring='r2', n_jobs=-1)\n",
    "grid.fit(X_train_scaled, y_train)\n",
    "print('Best params:', grid.best_params_)\n",
    "print('Best CV R2:', grid.best_score_)\n",
    "\n",
    "# Retrain final model\n",
    "best = grid.best_params_\n",
    "tuned = RandomForestRegressor(**best, random_state=42)\n",
    "tuned.fit(X_train_scaled, y_train)\n",
    "preds = tuned.predict(X_test_scaled)\n",
    "mse_t = mean_squared_error(y_test, preds)\n",
    "print('Test R2 :', r2_score(y_test,preds))\n",
    "print('Test MAE:', mean_absolute_error(y_test,preds))\n",
    "print('Test RMSE:', mse_t**0.5)"
   ]
  },
  {
   "cell_type": "markdown",
   "id": "93a16ffe-a1b0-4c2b-bdcc-640a428a9352",
   "metadata": {},
   "source": [
    "# 7 Summarize Findings\n",
    "\n",
    "**Best Model:** Random Forest Regressor (tuned)\n",
    "\n",
    "- **Test R²:** 0.9686  \n",
    "- **Test MAE:** ₹69,740.01  \n",
    "- **Test RMSE:** ₹143,363.70  \n",
    "\n",
    "**Most Influential Features:**  \n",
    "1. `car_age` (age of the car)  \n",
    "2. `km_driven` (total kilometers driven)  \n",
    "3. `mileage` (fuel efficiency)  \n",
    "4. `max_power` (engine power)  \n",
    "\n",
    "**Next Steps:**  \n",
    "1. Collect more data (e.g., car brand, location, optional features) to improve generalization.  \n",
    "2. Experiment with advanced ensemble techniques (e.g., stacking or blending) to boost accuracy.  \n",
    "3. Deploy the final model as a REST API or containerized app for production use.  \n",
    "4. Monitor performance over time and periodically retrain with new data."
   ]
  },
  {
   "cell_type": "markdown",
   "id": "fcdc5269-5999-4bfd-8edc-4593c74739e2",
   "metadata": {},
   "source": [
    "# 8 Save feature_names, rf_model & scaler"
   ]
  },
  {
   "cell_type": "code",
   "execution_count": 16,
   "id": "af89fc40-b360-41e8-a6f5-6713199b17e3",
   "metadata": {},
   "outputs": [
    {
     "name": "stdout",
     "output_type": "stream",
     "text": [
      "Saved feature_names (count = 16 ):\n",
      "['km_driven', 'mileage', 'engine', 'max_power', 'seats', 'car_age', 'fuel_Diesel', 'fuel_LPG', 'fuel_Petrol', 'seller_type_Individual', 'seller_type_Trustmark Dealer', 'transmission_Manual', 'owner_Fourth & Above Owner', 'owner_Second Owner', 'owner_Test Drive Car', 'owner_Third Owner']\n"
     ]
    }
   ],
   "source": [
    "import pickle\n",
    "# Must be run after the final X_train_scaled has all dummy columns\n",
    "\n",
    "feature_names = X_train_scaled.columns.tolist()\n",
    "with open('../models/feature_names.pkl', 'wb') as f:\n",
    "    pickle.dump(feature_names, f)\n",
    "    \n",
    "with open('../models/rf_model.pkl','wb') as f:\n",
    "    pickle.dump(tuned, f)\n",
    "    \n",
    "with open('../models/scaler.pkl','wb') as f:\n",
    "    pickle.dump(scaler, f)\n",
    "    \n",
    "print('Saved feature_names (count =', len(feature_names),'):')\n",
    "print(feature_names)"
   ]
  },
  {
   "cell_type": "markdown",
   "id": "bbd39ee1-cfdb-48b2-97f5-97e03dc6f0d0",
   "metadata": {},
   "source": [
    "# Conclusion\n",
    "\n",
    "In this project, I have:\n",
    "\n",
    "- **Ingested & inspected** raw data from CarDekho, handling missing values and data inconsistencies.\n",
    "- Performed **Exploratory Data Analysis** to visualize price distributions, fuel type counts, and relationships between features.\n",
    "- Executed **feature engineering**, converting raw strings into numeric fields and encoding categorical variables.\n",
    "- Trained and compared multiple regression models, selecting a **tuned Random Forest** as the best based on Test R² of 0.9686, MAE of ₹69.7k, and RMSE of ₹143.4k.\n",
    "- Developed an **interactive Streamlit app** to demonstrate real-time price predictions using the trained model.\n",
    "\n",
    "This end-to-end workflow—from data ingestion to a deployable web demo—demonstrates my ability to build a complete machine learning solution. I documented all assumptions and challenges and identified next steps for future improvements."
   ]
  }
 ],
 "metadata": {
  "kernelspec": {
   "display_name": "Python 3 (ipykernel)",
   "language": "python",
   "name": "python3"
  },
  "language_info": {
   "codemirror_mode": {
    "name": "ipython",
    "version": 3
   },
   "file_extension": ".py",
   "mimetype": "text/x-python",
   "name": "python",
   "nbconvert_exporter": "python",
   "pygments_lexer": "ipython3",
   "version": "3.12.10"
  }
 },
 "nbformat": 4,
 "nbformat_minor": 5
}
